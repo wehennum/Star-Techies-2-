{
 "cells": [
  {
   "cell_type": "code",
   "execution_count": 1,
   "id": "c208c73b",
   "metadata": {},
   "outputs": [],
   "source": [
    "import pandas as pd\n"
   ]
  },
  {
   "cell_type": "code",
   "execution_count": 8,
   "id": "32491f6b",
   "metadata": {},
   "outputs": [],
   "source": [
    "USA_Pres_df= pd.read_csv('Resources/presidents.csv')\n"
   ]
  },
  {
   "cell_type": "code",
   "execution_count": 9,
   "id": "7e9c74d5",
   "metadata": {
    "scrolled": true
   },
   "outputs": [
    {
     "name": "stdout",
     "output_type": "stream",
     "text": [
      "    Presidency                    President  Took office  Left office   \\\n",
      "0             1            George Washington   30/04/1789    4/03/1797   \n",
      "1             2                   John Adams    4/03/1797    4/03/1801   \n",
      "2             3             Thomas Jefferson    4/03/1801    4/03/1809   \n",
      "3             4                James Madison    4/03/1809    4/03/1817   \n",
      "4             5                 James Monroe    4/03/1817    4/03/1825   \n",
      "5             6            John Quincy Adams    4/03/1825    4/03/1829   \n",
      "6             7               Andrew Jackson    4/03/1829    4/03/1837   \n",
      "7             8             Martin Van Buren    4/03/1837    4/03/1841   \n",
      "8             9       William Henry Harrison    4/03/1841    4/04/1841   \n",
      "9            10                   John Tyler    4/04/1841    4/03/1845   \n",
      "10           11                James K. Polk    4/03/1845    4/03/1849   \n",
      "11           12               Zachary Taylor    4/03/1849    9/07/1850   \n",
      "12           13             Millard Fillmore    9/07/1850    4/03/1853   \n",
      "13           14              Franklin Pierce    4/03/1853    4/03/1857   \n",
      "14           15               James Buchanan    4/03/1857    4/03/1861   \n",
      "15           16              Abraham Lincoln    4/03/1861   15/04/1865   \n",
      "16           17               Andrew Johnson   15/04/1865    4/03/1869   \n",
      "17           18             Ulysses S. Grant    4/03/1869    4/03/1877   \n",
      "18           19          Rutherford B. Hayes    4/03/1877    4/03/1881   \n",
      "19           20            James A. Garfield    4/03/1881   19/09/1881   \n",
      "20           21            Chester A. Arthur   19/09/1881    4/03/1885   \n",
      "21           22             Grover Cleveland    4/03/1885    4/03/1889   \n",
      "22           23            Benjamin Harrison    4/03/1889    4/03/1893   \n",
      "23           24  Grover Cleveland (2nd term)    4/03/1893    4/03/1897   \n",
      "24           25             William McKinley    4/03/1897    14/9/1901   \n",
      "25           26           Theodore Roosevelt    14/9/1901       4/3/09   \n",
      "26           27          William Howard Taft       4/3/09       4/3/13   \n",
      "27           28               Woodrow Wilson       4/3/13       4/3/21   \n",
      "28           29            Warren G. Harding       4/3/21       2/8/23   \n",
      "29           30              Calvin Coolidge       2/8/23       4/3/29   \n",
      "30           31               Herbert Hoover       4/3/29       4/3/33   \n",
      "31           32        Franklin D. Roosevelt       4/3/33      12/4/45   \n",
      "32           33              Harry S. Truman      12/4/45   20/01/1953   \n",
      "33           34         Dwight D. Eisenhower   20/01/1953   20/01/1961   \n",
      "34           35              John F. Kennedy   20/01/1961   22/11/1963   \n",
      "35           36            Lyndon B. Johnson   22/11/1963    20/1/1969   \n",
      "36           37                Richard Nixon    20/1/1969       9/8/74   \n",
      "37           38                  Gerald Ford       9/8/74   20/01/1977   \n",
      "38           39                 Jimmy Carter   20/01/1977   20/01/1981   \n",
      "39           40                Ronald Reagan   20/01/1981   20/01/1989   \n",
      "40           41            George H. W. Bush   20/01/1989   20/01/1993   \n",
      "41           42                 Bill Clinton   20/01/1993   20/01/2001   \n",
      "42           43               George W. Bush   20/01/2001   20/01/2009   \n",
      "43           44                 Barack Obama   20/01/2009   20/01/2017   \n",
      "44           45                 Donald Trump   20/01/2017   20/01/2021   \n",
      "45           46                    Joe Biden   20/01/2021      current   \n",
      "\n",
      "                                        Party   \n",
      "0                                 Independent   \n",
      "1                                  Federalist   \n",
      "2                       Democratic-Republican   \n",
      "3                       Democratic-Republican   \n",
      "4                       Democratic-Republican   \n",
      "5   Democratic-Republican/National Republican   \n",
      "6                                  Democratic   \n",
      "7                                  Democratic   \n",
      "8                                         Whig  \n",
      "9                                         Whig  \n",
      "10                                 Democratic   \n",
      "11                                        Whig  \n",
      "12                                        Whig  \n",
      "13                                 Democratic   \n",
      "14                                 Democratic   \n",
      "15                   Republican/National Union  \n",
      "16                   Democratic/National Union  \n",
      "17                                 Republican   \n",
      "18                                 Republican   \n",
      "19                                 Republican   \n",
      "20                                 Republican   \n",
      "21                                 Democratic   \n",
      "22                                 Republican   \n",
      "23                                 Democratic   \n",
      "24                                 Republican   \n",
      "25                                 Republican   \n",
      "26                                 Republican   \n",
      "27                                 Democratic   \n",
      "28                                 Republican   \n",
      "29                                 Republican   \n",
      "30                                 Republican   \n",
      "31                                  Democratic  \n",
      "32                                  Democratic  \n",
      "33                                 Republican   \n",
      "34                                  Democratic  \n",
      "35                                  Democratic  \n",
      "36                                  Republican  \n",
      "37                                  Republican  \n",
      "38                                 Democratic   \n",
      "39                                 Republican   \n",
      "40                                 Republican   \n",
      "41                                 Democratic   \n",
      "42                                 Republican   \n",
      "43                               Democratic     \n",
      "44                                  Republican  \n",
      "45                                  Democratic  \n"
     ]
    }
   ],
   "source": [
    "print(USA_Pres_df)"
   ]
  },
  {
   "cell_type": "code",
   "execution_count": 10,
   "id": "0d1a9900",
   "metadata": {
    "collapsed": true
   },
   "outputs": [
    {
     "name": "stdout",
     "output_type": "stream",
     "text": [
      "Index(['Presidency ', 'President ', 'Took office ', 'Left office ', 'Party '], dtype='object')\n"
     ]
    }
   ],
   "source": [
    "print(USA_Pres_df.columns)"
   ]
  },
  {
   "cell_type": "code",
   "execution_count": 15,
   "id": "2f7bc132",
   "metadata": {},
   "outputs": [],
   "source": [
    "USA_Pres_df.drop(['Presidency ', 'Party '], axis=1, inplace=True)\n"
   ]
  },
  {
   "cell_type": "code",
   "execution_count": 16,
   "id": "ad7cb5e7",
   "metadata": {},
   "outputs": [
    {
     "name": "stdout",
     "output_type": "stream",
     "text": [
      "Index(['President ', 'Took office ', 'Left office '], dtype='object')\n"
     ]
    }
   ],
   "source": [
    "print(USA_Pres_df.columns)\n"
   ]
  },
  {
   "cell_type": "code",
   "execution_count": 19,
   "id": "cb432ba7",
   "metadata": {
    "scrolled": true
   },
   "outputs": [
    {
     "ename": "ValueError",
     "evalue": "time data \"15/04/1865\" doesn't match format \"%m/%d/%Y\", at position 15. You might want to try:\n    - passing `format` if your strings have a consistent format;\n    - passing `format='ISO8601'` if your strings are all ISO8601 but not necessarily in exactly the same format;\n    - passing `format='mixed'`, and the format will be inferred for each element individually. You might want to use `dayfirst` alongside this.",
     "output_type": "error",
     "traceback": [
      "\u001b[0;31m---------------------------------------------------------------------------\u001b[0m",
      "\u001b[0;31mValueError\u001b[0m                                Traceback (most recent call last)",
      "Cell \u001b[0;32mIn[19], line 4\u001b[0m\n\u001b[1;32m      1\u001b[0m USA_Pres_df\u001b[38;5;241m.\u001b[39mcolumns \u001b[38;5;241m=\u001b[39m USA_Pres_df\u001b[38;5;241m.\u001b[39mcolumns\u001b[38;5;241m.\u001b[39mstr\u001b[38;5;241m.\u001b[39mstrip()\n\u001b[1;32m      3\u001b[0m \u001b[38;5;66;03m# Assuming 'Left office' is in datetime format, if not, convert it first\u001b[39;00m\n\u001b[0;32m----> 4\u001b[0m USA_Pres_df[\u001b[38;5;124m'\u001b[39m\u001b[38;5;124mLeft office\u001b[39m\u001b[38;5;124m'\u001b[39m] \u001b[38;5;241m=\u001b[39m pd\u001b[38;5;241m.\u001b[39mto_datetime(USA_Pres_df[\u001b[38;5;124m'\u001b[39m\u001b[38;5;124mLeft office\u001b[39m\u001b[38;5;124m'\u001b[39m])\n\u001b[1;32m      6\u001b[0m \u001b[38;5;66;03m# Drop rows based on the condition\u001b[39;00m\n\u001b[1;32m      7\u001b[0m USA_Pres_df \u001b[38;5;241m=\u001b[39m USA_Pres_df[USA_Pres_df[\u001b[38;5;124m'\u001b[39m\u001b[38;5;124mLeft office\u001b[39m\u001b[38;5;124m'\u001b[39m] \u001b[38;5;241m>\u001b[39m\u001b[38;5;241m=\u001b[39m \u001b[38;5;124m'\u001b[39m\u001b[38;5;124m1970-01-01\u001b[39m\u001b[38;5;124m'\u001b[39m]\n",
      "File \u001b[0;32m~/anaconda3/lib/python3.11/site-packages/pandas/core/tools/datetimes.py:1112\u001b[0m, in \u001b[0;36mto_datetime\u001b[0;34m(arg, errors, dayfirst, yearfirst, utc, format, exact, unit, infer_datetime_format, origin, cache)\u001b[0m\n\u001b[1;32m   1110\u001b[0m         result \u001b[38;5;241m=\u001b[39m arg\u001b[38;5;241m.\u001b[39mmap(cache_array)\n\u001b[1;32m   1111\u001b[0m     \u001b[38;5;28;01melse\u001b[39;00m:\n\u001b[0;32m-> 1112\u001b[0m         values \u001b[38;5;241m=\u001b[39m convert_listlike(arg\u001b[38;5;241m.\u001b[39m_values, \u001b[38;5;28mformat\u001b[39m)\n\u001b[1;32m   1113\u001b[0m         result \u001b[38;5;241m=\u001b[39m arg\u001b[38;5;241m.\u001b[39m_constructor(values, index\u001b[38;5;241m=\u001b[39marg\u001b[38;5;241m.\u001b[39mindex, name\u001b[38;5;241m=\u001b[39marg\u001b[38;5;241m.\u001b[39mname)\n\u001b[1;32m   1114\u001b[0m \u001b[38;5;28;01melif\u001b[39;00m \u001b[38;5;28misinstance\u001b[39m(arg, (ABCDataFrame, abc\u001b[38;5;241m.\u001b[39mMutableMapping)):\n",
      "File \u001b[0;32m~/anaconda3/lib/python3.11/site-packages/pandas/core/tools/datetimes.py:488\u001b[0m, in \u001b[0;36m_convert_listlike_datetimes\u001b[0;34m(arg, format, name, utc, unit, errors, dayfirst, yearfirst, exact)\u001b[0m\n\u001b[1;32m    486\u001b[0m \u001b[38;5;66;03m# `format` could be inferred, or user didn't ask for mixed-format parsing.\u001b[39;00m\n\u001b[1;32m    487\u001b[0m \u001b[38;5;28;01mif\u001b[39;00m \u001b[38;5;28mformat\u001b[39m \u001b[38;5;129;01mis\u001b[39;00m \u001b[38;5;129;01mnot\u001b[39;00m \u001b[38;5;28;01mNone\u001b[39;00m \u001b[38;5;129;01mand\u001b[39;00m \u001b[38;5;28mformat\u001b[39m \u001b[38;5;241m!=\u001b[39m \u001b[38;5;124m\"\u001b[39m\u001b[38;5;124mmixed\u001b[39m\u001b[38;5;124m\"\u001b[39m:\n\u001b[0;32m--> 488\u001b[0m     \u001b[38;5;28;01mreturn\u001b[39;00m _array_strptime_with_fallback(arg, name, utc, \u001b[38;5;28mformat\u001b[39m, exact, errors)\n\u001b[1;32m    490\u001b[0m result, tz_parsed \u001b[38;5;241m=\u001b[39m objects_to_datetime64ns(\n\u001b[1;32m    491\u001b[0m     arg,\n\u001b[1;32m    492\u001b[0m     dayfirst\u001b[38;5;241m=\u001b[39mdayfirst,\n\u001b[0;32m   (...)\u001b[0m\n\u001b[1;32m    496\u001b[0m     allow_object\u001b[38;5;241m=\u001b[39m\u001b[38;5;28;01mTrue\u001b[39;00m,\n\u001b[1;32m    497\u001b[0m )\n\u001b[1;32m    499\u001b[0m \u001b[38;5;28;01mif\u001b[39;00m tz_parsed \u001b[38;5;129;01mis\u001b[39;00m \u001b[38;5;129;01mnot\u001b[39;00m \u001b[38;5;28;01mNone\u001b[39;00m:\n\u001b[1;32m    500\u001b[0m     \u001b[38;5;66;03m# We can take a shortcut since the datetime64 numpy array\u001b[39;00m\n\u001b[1;32m    501\u001b[0m     \u001b[38;5;66;03m# is in UTC\u001b[39;00m\n",
      "File \u001b[0;32m~/anaconda3/lib/python3.11/site-packages/pandas/core/tools/datetimes.py:519\u001b[0m, in \u001b[0;36m_array_strptime_with_fallback\u001b[0;34m(arg, name, utc, fmt, exact, errors)\u001b[0m\n\u001b[1;32m    508\u001b[0m \u001b[38;5;28;01mdef\u001b[39;00m \u001b[38;5;21m_array_strptime_with_fallback\u001b[39m(\n\u001b[1;32m    509\u001b[0m     arg,\n\u001b[1;32m    510\u001b[0m     name,\n\u001b[0;32m   (...)\u001b[0m\n\u001b[1;32m    514\u001b[0m     errors: \u001b[38;5;28mstr\u001b[39m,\n\u001b[1;32m    515\u001b[0m ) \u001b[38;5;241m-\u001b[39m\u001b[38;5;241m>\u001b[39m Index:\n\u001b[1;32m    516\u001b[0m \u001b[38;5;250m    \u001b[39m\u001b[38;5;124;03m\"\"\"\u001b[39;00m\n\u001b[1;32m    517\u001b[0m \u001b[38;5;124;03m    Call array_strptime, with fallback behavior depending on 'errors'.\u001b[39;00m\n\u001b[1;32m    518\u001b[0m \u001b[38;5;124;03m    \"\"\"\u001b[39;00m\n\u001b[0;32m--> 519\u001b[0m     result, timezones \u001b[38;5;241m=\u001b[39m array_strptime(arg, fmt, exact\u001b[38;5;241m=\u001b[39mexact, errors\u001b[38;5;241m=\u001b[39merrors, utc\u001b[38;5;241m=\u001b[39mutc)\n\u001b[1;32m    520\u001b[0m     \u001b[38;5;28;01mif\u001b[39;00m \u001b[38;5;28many\u001b[39m(tz \u001b[38;5;129;01mis\u001b[39;00m \u001b[38;5;129;01mnot\u001b[39;00m \u001b[38;5;28;01mNone\u001b[39;00m \u001b[38;5;28;01mfor\u001b[39;00m tz \u001b[38;5;129;01min\u001b[39;00m timezones):\n\u001b[1;32m    521\u001b[0m         \u001b[38;5;28;01mreturn\u001b[39;00m _return_parsed_timezone_results(result, timezones, utc, name)\n",
      "File \u001b[0;32mstrptime.pyx:534\u001b[0m, in \u001b[0;36mpandas._libs.tslibs.strptime.array_strptime\u001b[0;34m()\u001b[0m\n",
      "File \u001b[0;32mstrptime.pyx:355\u001b[0m, in \u001b[0;36mpandas._libs.tslibs.strptime.array_strptime\u001b[0;34m()\u001b[0m\n",
      "\u001b[0;31mValueError\u001b[0m: time data \"15/04/1865\" doesn't match format \"%m/%d/%Y\", at position 15. You might want to try:\n    - passing `format` if your strings have a consistent format;\n    - passing `format='ISO8601'` if your strings are all ISO8601 but not necessarily in exactly the same format;\n    - passing `format='mixed'`, and the format will be inferred for each element individually. You might want to use `dayfirst` alongside this."
     ]
    }
   ],
   "source": [
    "\n",
    "USA_Pres_df.columns = USA_Pres_df.columns.str.strip()\n",
    "\n",
    "# Assuming 'Left office' is in datetime format, if not, convert it first\n",
    "USA_Pres_df['Left office'] = pd.to_datetime(USA_Pres_df['Left office'])\n",
    "\n",
    "# Drop rows based on the condition\n",
    "USA_Pres_df = USA_Pres_df[USA_Pres_df['Left office'] >= '1970-01-01']\n"
   ]
  },
  {
   "cell_type": "code",
   "execution_count": 18,
   "id": "835552a2",
   "metadata": {},
   "outputs": [
    {
     "name": "stdout",
     "output_type": "stream",
     "text": [
      "Index(['President ', 'Took office ', 'Left office '], dtype='object')\n"
     ]
    }
   ],
   "source": [
    "print(USA_Pres_df.columns)\n"
   ]
  },
  {
   "cell_type": "code",
   "execution_count": 20,
   "id": "81b78502",
   "metadata": {},
   "outputs": [
    {
     "name": "stdout",
     "output_type": "stream",
     "text": [
      "                      President Took office Left office\n",
      "0             George Washington  30/04/1789   4/03/1797\n",
      "1                    John Adams   4/03/1797   4/03/1801\n",
      "2              Thomas Jefferson   4/03/1801   4/03/1809\n",
      "3                 James Madison   4/03/1809   4/03/1817\n",
      "4                  James Monroe   4/03/1817   4/03/1825\n",
      "5             John Quincy Adams   4/03/1825   4/03/1829\n",
      "6                Andrew Jackson   4/03/1829   4/03/1837\n",
      "7              Martin Van Buren   4/03/1837   4/03/1841\n",
      "8        William Henry Harrison   4/03/1841   4/04/1841\n",
      "9                    John Tyler   4/04/1841   4/03/1845\n",
      "10                James K. Polk   4/03/1845   4/03/1849\n",
      "11               Zachary Taylor   4/03/1849   9/07/1850\n",
      "12             Millard Fillmore   9/07/1850   4/03/1853\n",
      "13              Franklin Pierce   4/03/1853   4/03/1857\n",
      "14               James Buchanan   4/03/1857   4/03/1861\n",
      "15              Abraham Lincoln   4/03/1861  15/04/1865\n",
      "16               Andrew Johnson  15/04/1865   4/03/1869\n",
      "17             Ulysses S. Grant   4/03/1869   4/03/1877\n",
      "18          Rutherford B. Hayes   4/03/1877   4/03/1881\n",
      "19            James A. Garfield   4/03/1881  19/09/1881\n",
      "20            Chester A. Arthur  19/09/1881   4/03/1885\n",
      "21             Grover Cleveland   4/03/1885   4/03/1889\n",
      "22            Benjamin Harrison   4/03/1889   4/03/1893\n",
      "23  Grover Cleveland (2nd term)   4/03/1893   4/03/1897\n",
      "24             William McKinley   4/03/1897   14/9/1901\n",
      "25           Theodore Roosevelt   14/9/1901      4/3/09\n",
      "26          William Howard Taft      4/3/09      4/3/13\n",
      "27               Woodrow Wilson      4/3/13      4/3/21\n",
      "28            Warren G. Harding      4/3/21      2/8/23\n",
      "29              Calvin Coolidge      2/8/23      4/3/29\n",
      "30               Herbert Hoover      4/3/29      4/3/33\n",
      "31        Franklin D. Roosevelt      4/3/33     12/4/45\n",
      "32              Harry S. Truman     12/4/45  20/01/1953\n",
      "33         Dwight D. Eisenhower  20/01/1953  20/01/1961\n",
      "34              John F. Kennedy  20/01/1961  22/11/1963\n",
      "35            Lyndon B. Johnson  22/11/1963   20/1/1969\n",
      "36                Richard Nixon   20/1/1969      9/8/74\n",
      "37                  Gerald Ford      9/8/74  20/01/1977\n",
      "38                 Jimmy Carter  20/01/1977  20/01/1981\n",
      "39                Ronald Reagan  20/01/1981  20/01/1989\n",
      "40            George H. W. Bush  20/01/1989  20/01/1993\n",
      "41                 Bill Clinton  20/01/1993  20/01/2001\n",
      "42               George W. Bush  20/01/2001  20/01/2009\n",
      "43                 Barack Obama  20/01/2009  20/01/2017\n",
      "44                 Donald Trump  20/01/2017  20/01/2021\n",
      "45                    Joe Biden  20/01/2021     current\n"
     ]
    }
   ],
   "source": [
    "print(USA_Pres_df)"
   ]
  },
  {
   "cell_type": "code",
   "execution_count": null,
   "id": "f83641ca",
   "metadata": {},
   "outputs": [],
   "source": []
  }
 ],
 "metadata": {
  "kernelspec": {
   "display_name": "Python 3 (ipykernel)",
   "language": "python",
   "name": "python3"
  },
  "language_info": {
   "codemirror_mode": {
    "name": "ipython",
    "version": 3
   },
   "file_extension": ".py",
   "mimetype": "text/x-python",
   "name": "python",
   "nbconvert_exporter": "python",
   "pygments_lexer": "ipython3",
   "version": "3.11.5"
  }
 },
 "nbformat": 4,
 "nbformat_minor": 5
}
