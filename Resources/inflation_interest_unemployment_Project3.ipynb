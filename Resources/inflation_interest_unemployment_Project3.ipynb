{
 "cells": [
  {
   "cell_type": "code",
   "execution_count": 1,
   "id": "83255ca6",
   "metadata": {},
   "outputs": [],
   "source": [
    "# Import dependencies\n",
    "import polars as pl\n",
    "import numpy as np"
   ]
  },
  {
   "cell_type": "code",
   "execution_count": 2,
   "id": "1482ee16",
   "metadata": {},
   "outputs": [
    {
     "name": "stdout",
     "output_type": "stream",
     "text": [
      "Requirement already satisfied: polars in c:\\users\\jprui\\anaconda3\\envs\\dev\\lib\\site-packages (0.20.4)\n"
     ]
    }
   ],
   "source": [
    "!pip install polars\n",
    "\n"
   ]
  },
  {
   "cell_type": "markdown",
   "id": "84732572",
   "metadata": {},
   "source": [
    "### Extract the inflation interest unemployment.csv Data"
   ]
  },
  {
   "cell_type": "code",
   "execution_count": 3,
   "id": "4a709749",
   "metadata": {},
   "outputs": [
    {
     "data": {
      "text/html": [
       "<div><style>\n",
       ".dataframe > thead > tr,\n",
       ".dataframe > tbody > tr {\n",
       "  text-align: right;\n",
       "  white-space: pre-wrap;\n",
       "}\n",
       "</style>\n",
       "<small>shape: (5, 13)</small><table border=\"1\" class=\"dataframe\"><thead><tr><th>country</th><th>year</th><th>Inflation, consumer prices (annual %)</th><th>Inflation, GDP deflator (annual %)</th><th>Real interest rate (%)</th><th>Deposit interest rate (%)</th><th>Lending interest rate (%)</th><th>Unemployment, total (% of total labor force) (national estimate)</th><th>Unemployment, total (% of total labor force) (modeled ILO estimate)</th><th>iso3c</th><th>iso2c</th><th>adminregion</th><th>incomeLevel</th></tr><tr><td>str</td><td>i64</td><td>f64</td><td>f64</td><td>f64</td><td>str</td><td>f64</td><td>f64</td><td>f64</td><td>str</td><td>str</td><td>str</td><td>str</td></tr></thead><tbody><tr><td>&quot;Afghanistan&quot;</td><td>1970</td><td>null</td><td>null</td><td>null</td><td>null</td><td>null</td><td>null</td><td>null</td><td>&quot;AFG&quot;</td><td>&quot;AF&quot;</td><td>&quot;South Asia&quot;</td><td>&quot;Low income&quot;</td></tr><tr><td>&quot;Afghanistan&quot;</td><td>1971</td><td>null</td><td>null</td><td>null</td><td>null</td><td>null</td><td>null</td><td>null</td><td>&quot;AFG&quot;</td><td>&quot;AF&quot;</td><td>&quot;South Asia&quot;</td><td>&quot;Low income&quot;</td></tr><tr><td>&quot;Afghanistan&quot;</td><td>1972</td><td>null</td><td>null</td><td>null</td><td>null</td><td>null</td><td>null</td><td>null</td><td>&quot;AFG&quot;</td><td>&quot;AF&quot;</td><td>&quot;South Asia&quot;</td><td>&quot;Low income&quot;</td></tr><tr><td>&quot;Afghanistan&quot;</td><td>1973</td><td>null</td><td>null</td><td>null</td><td>null</td><td>null</td><td>null</td><td>null</td><td>&quot;AFG&quot;</td><td>&quot;AF&quot;</td><td>&quot;South Asia&quot;</td><td>&quot;Low income&quot;</td></tr><tr><td>&quot;Afghanistan&quot;</td><td>1974</td><td>null</td><td>null</td><td>null</td><td>null</td><td>null</td><td>null</td><td>null</td><td>&quot;AFG&quot;</td><td>&quot;AF&quot;</td><td>&quot;South Asia&quot;</td><td>&quot;Low income&quot;</td></tr></tbody></table></div>"
      ],
      "text/plain": [
       "shape: (5, 13)\n",
       "┌─────────────┬──────┬─────────────────────┬─────────────────────────┬───┬───────┬───────┬─────────────┬─────────────┐\n",
       "│ country     ┆ year ┆ Inflation, consumer ┆ Inflation, GDP deflator ┆ … ┆ iso3c ┆ iso2c ┆ adminregion ┆ incomeLevel │\n",
       "│ ---         ┆ ---  ┆ prices (annu…       ┆ (annual …               ┆   ┆ ---   ┆ ---   ┆ ---         ┆ ---         │\n",
       "│ str         ┆ i64  ┆ ---                 ┆ ---                     ┆   ┆ str   ┆ str   ┆ str         ┆ str         │\n",
       "│             ┆      ┆ f64                 ┆ f64                     ┆   ┆       ┆       ┆             ┆             │\n",
       "╞═════════════╪══════╪═════════════════════╪═════════════════════════╪═══╪═══════╪═══════╪═════════════╪═════════════╡\n",
       "│ Afghanistan ┆ 1970 ┆ null                ┆ null                    ┆ … ┆ AFG   ┆ AF    ┆ South Asia  ┆ Low income  │\n",
       "│ Afghanistan ┆ 1971 ┆ null                ┆ null                    ┆ … ┆ AFG   ┆ AF    ┆ South Asia  ┆ Low income  │\n",
       "│ Afghanistan ┆ 1972 ┆ null                ┆ null                    ┆ … ┆ AFG   ┆ AF    ┆ South Asia  ┆ Low income  │\n",
       "│ Afghanistan ┆ 1973 ┆ null                ┆ null                    ┆ … ┆ AFG   ┆ AF    ┆ South Asia  ┆ Low income  │\n",
       "│ Afghanistan ┆ 1974 ┆ null                ┆ null                    ┆ … ┆ AFG   ┆ AF    ┆ South Asia  ┆ Low income  │\n",
       "└─────────────┴──────┴─────────────────────┴─────────────────────────┴───┴───────┴───────┴─────────────┴─────────────┘"
      ]
     },
     "execution_count": 3,
     "metadata": {},
     "output_type": "execute_result"
    }
   ],
   "source": [
    "# Read the data into a Pandas DataFrame.\n",
    "info_df = pl.read_csv('Resources/inflation interest unemployment.csv')\n",
    "info_df.head()"
   ]
  },
  {
   "cell_type": "code",
   "execution_count": 4,
   "id": "d2ba456e",
   "metadata": {},
   "outputs": [
    {
     "data": {
      "text/html": [
       "<div><style>\n",
       ".dataframe > thead > tr,\n",
       ".dataframe > tbody > tr {\n",
       "  text-align: right;\n",
       "  white-space: pre-wrap;\n",
       "}\n",
       "</style>\n",
       "<small>shape: (5, 13)</small><table border=\"1\" class=\"dataframe\"><thead><tr><th>country</th><th>year</th><th>Inflation, consumer prices (annual %)</th><th>Inflation, GDP deflator (annual %)</th><th>Real interest rate (%)</th><th>Deposit interest rate (%)</th><th>Lending interest rate (%)</th><th>Unemployment, total (% of total labor force) (national estimate)</th><th>Unemployment, total (% of total labor force) (modeled ILO estimate)</th><th>iso3c</th><th>iso2c</th><th>adminregion</th><th>incomeLevel</th></tr><tr><td>str</td><td>i64</td><td>f64</td><td>f64</td><td>f64</td><td>str</td><td>f64</td><td>f64</td><td>f64</td><td>str</td><td>str</td><td>str</td><td>str</td></tr></thead><tbody><tr><td>&quot;United States&quot;</td><td>1970</td><td>5.838255</td><td>5.60217</td><td>2.1854</td><td>null</td><td>7.91</td><td>4.9</td><td>null</td><td>&quot;USA&quot;</td><td>&quot;US&quot;</td><td>null</td><td>&quot;High income&quot;</td></tr><tr><td>&quot;United States&quot;</td><td>1971</td><td>4.292767</td><td>5.069167</td><td>0.622605</td><td>null</td><td>5.723333</td><td>5.9</td><td>null</td><td>&quot;USA&quot;</td><td>&quot;US&quot;</td><td>null</td><td>&quot;High income&quot;</td></tr><tr><td>&quot;United States&quot;</td><td>1972</td><td>3.272278</td><td>4.322751</td><td>0.887229</td><td>null</td><td>5.248333</td><td>5.6</td><td>null</td><td>&quot;USA&quot;</td><td>&quot;US&quot;</td><td>null</td><td>&quot;High income&quot;</td></tr><tr><td>&quot;United States&quot;</td><td>1973</td><td>6.17776</td><td>5.479881</td><td>2.409735</td><td>null</td><td>8.021667</td><td>4.9</td><td>null</td><td>&quot;USA&quot;</td><td>&quot;US&quot;</td><td>null</td><td>&quot;High income&quot;</td></tr><tr><td>&quot;United States&quot;</td><td>1974</td><td>11.054805</td><td>8.998695</td><td>1.651064</td><td>null</td><td>10.798333</td><td>5.6</td><td>null</td><td>&quot;USA&quot;</td><td>&quot;US&quot;</td><td>null</td><td>&quot;High income&quot;</td></tr></tbody></table></div>"
      ],
      "text/plain": [
       "shape: (5, 13)\n",
       "┌───────────────┬──────┬─────────────────────┬─────────────────────────┬───┬───────┬───────┬─────────────┬─────────────┐\n",
       "│ country       ┆ year ┆ Inflation, consumer ┆ Inflation, GDP deflator ┆ … ┆ iso3c ┆ iso2c ┆ adminregion ┆ incomeLevel │\n",
       "│ ---           ┆ ---  ┆ prices (annu…       ┆ (annual …               ┆   ┆ ---   ┆ ---   ┆ ---         ┆ ---         │\n",
       "│ str           ┆ i64  ┆ ---                 ┆ ---                     ┆   ┆ str   ┆ str   ┆ str         ┆ str         │\n",
       "│               ┆      ┆ f64                 ┆ f64                     ┆   ┆       ┆       ┆             ┆             │\n",
       "╞═══════════════╪══════╪═════════════════════╪═════════════════════════╪═══╪═══════╪═══════╪═════════════╪═════════════╡\n",
       "│ United States ┆ 1970 ┆ 5.838255            ┆ 5.60217                 ┆ … ┆ USA   ┆ US    ┆ null        ┆ High income │\n",
       "│ United States ┆ 1971 ┆ 4.292767            ┆ 5.069167                ┆ … ┆ USA   ┆ US    ┆ null        ┆ High income │\n",
       "│ United States ┆ 1972 ┆ 3.272278            ┆ 4.322751                ┆ … ┆ USA   ┆ US    ┆ null        ┆ High income │\n",
       "│ United States ┆ 1973 ┆ 6.17776             ┆ 5.479881                ┆ … ┆ USA   ┆ US    ┆ null        ┆ High income │\n",
       "│ United States ┆ 1974 ┆ 11.054805           ┆ 8.998695                ┆ … ┆ USA   ┆ US    ┆ null        ┆ High income │\n",
       "└───────────────┴──────┴─────────────────────┴─────────────────────────┴───┴───────┴───────┴─────────────┴─────────────┘"
      ]
     },
     "execution_count": 4,
     "metadata": {},
     "output_type": "execute_result"
    }
   ],
   "source": [
    "info_df.filter(info_df['country'] == 'United States').head()"
   ]
  },
  {
   "cell_type": "code",
   "execution_count": 5,
   "id": "f1c40f9f",
   "metadata": {},
   "outputs": [
    {
     "data": {
      "text/html": [
       "<div><style>\n",
       ".dataframe > thead > tr,\n",
       ".dataframe > tbody > tr {\n",
       "  text-align: right;\n",
       "  white-space: pre-wrap;\n",
       "}\n",
       "</style>\n",
       "<small>shape: (5, 9)</small><table border=\"1\" class=\"dataframe\"><thead><tr><th>country</th><th>year</th><th>Inflation, consumer prices (annual %)</th><th>Inflation, GDP deflator (annual %)</th><th>Real interest rate (%)</th><th>Deposit interest rate (%)</th><th>Lending interest rate (%)</th><th>Unemployment, total (% of total labor force) (national estimate)</th><th>Unemployment, total (% of total labor force) (modeled ILO estimate)</th></tr><tr><td>str</td><td>i64</td><td>f64</td><td>f64</td><td>f64</td><td>str</td><td>f64</td><td>f64</td><td>f64</td></tr></thead><tbody><tr><td>&quot;Afghanistan&quot;</td><td>1970</td><td>null</td><td>null</td><td>null</td><td>null</td><td>null</td><td>null</td><td>null</td></tr><tr><td>&quot;Afghanistan&quot;</td><td>1971</td><td>null</td><td>null</td><td>null</td><td>null</td><td>null</td><td>null</td><td>null</td></tr><tr><td>&quot;Afghanistan&quot;</td><td>1972</td><td>null</td><td>null</td><td>null</td><td>null</td><td>null</td><td>null</td><td>null</td></tr><tr><td>&quot;Afghanistan&quot;</td><td>1973</td><td>null</td><td>null</td><td>null</td><td>null</td><td>null</td><td>null</td><td>null</td></tr><tr><td>&quot;Afghanistan&quot;</td><td>1974</td><td>null</td><td>null</td><td>null</td><td>null</td><td>null</td><td>null</td><td>null</td></tr></tbody></table></div>"
      ],
      "text/plain": [
       "shape: (5, 9)\n",
       "┌─────────────┬──────┬────────────────┬────────────────┬───┬───────────────┬───────────────┬───────────────┬───────────────┐\n",
       "│ country     ┆ year ┆ Inflation,     ┆ Inflation, GDP ┆ … ┆ Deposit       ┆ Lending       ┆ Unemployment, ┆ Unemployment, │\n",
       "│ ---         ┆ ---  ┆ consumer       ┆ deflator       ┆   ┆ interest rate ┆ interest rate ┆ total (% of   ┆ total (% of   │\n",
       "│ str         ┆ i64  ┆ prices (annu…  ┆ (annual …      ┆   ┆ (%)           ┆ (%)           ┆ total …       ┆ total …       │\n",
       "│             ┆      ┆ ---            ┆ ---            ┆   ┆ ---           ┆ ---           ┆ ---           ┆ ---           │\n",
       "│             ┆      ┆ f64            ┆ f64            ┆   ┆ str           ┆ f64           ┆ f64           ┆ f64           │\n",
       "╞═════════════╪══════╪════════════════╪════════════════╪═══╪═══════════════╪═══════════════╪═══════════════╪═══════════════╡\n",
       "│ Afghanistan ┆ 1970 ┆ null           ┆ null           ┆ … ┆ null          ┆ null          ┆ null          ┆ null          │\n",
       "│ Afghanistan ┆ 1971 ┆ null           ┆ null           ┆ … ┆ null          ┆ null          ┆ null          ┆ null          │\n",
       "│ Afghanistan ┆ 1972 ┆ null           ┆ null           ┆ … ┆ null          ┆ null          ┆ null          ┆ null          │\n",
       "│ Afghanistan ┆ 1973 ┆ null           ┆ null           ┆ … ┆ null          ┆ null          ┆ null          ┆ null          │\n",
       "│ Afghanistan ┆ 1974 ┆ null           ┆ null           ┆ … ┆ null          ┆ null          ┆ null          ┆ null          │\n",
       "└─────────────┴──────┴────────────────┴────────────────┴───┴───────────────┴───────────────┴───────────────┴───────────────┘"
      ]
     },
     "execution_count": 5,
     "metadata": {},
     "output_type": "execute_result"
    }
   ],
   "source": [
    "info_df_remove_column = info_df.drop(['iso3c', 'iso2c','adminregion','incomeLevel'])\n",
    "info_df_remove_column.head()"
   ]
  },
  {
   "cell_type": "code",
   "execution_count": 6,
   "id": "f4718e73",
   "metadata": {},
   "outputs": [
    {
     "data": {
      "text/html": [
       "<div><style>\n",
       ".dataframe > thead > tr,\n",
       ".dataframe > tbody > tr {\n",
       "  text-align: right;\n",
       "  white-space: pre-wrap;\n",
       "}\n",
       "</style>\n",
       "<small>shape: (104, 9)</small><table border=\"1\" class=\"dataframe\"><thead><tr><th>country</th><th>year</th><th>Inflation, consumer prices (annual %)</th><th>Inflation, GDP deflator (annual %)</th><th>Real interest rate (%)</th><th>Deposit interest rate (%)</th><th>Lending interest rate (%)</th><th>Unemployment, total (% of total labor force) (national estimate)</th><th>Unemployment, total (% of total labor force) (modeled ILO estimate)</th></tr><tr><td>str</td><td>i64</td><td>f64</td><td>f64</td><td>f64</td><td>str</td><td>f64</td><td>f64</td><td>f64</td></tr></thead><tbody><tr><td>&quot;United Kingdom…</td><td>1970</td><td>6.366568</td><td>5.539735</td><td>1.620494</td><td>&quot;5.208333333333…</td><td>7.25</td><td>null</td><td>null</td></tr><tr><td>&quot;United Kingdom…</td><td>1971</td><td>9.444837</td><td>7.985625</td><td>-0.449712</td><td>&quot;3.833333333333…</td><td>7.5</td><td>3.3</td><td>null</td></tr><tr><td>&quot;United Kingdom…</td><td>1972</td><td>7.071098</td><td>7.188252</td><td>0.290842</td><td>&quot;4.145833333333…</td><td>7.5</td><td>3.7</td><td>null</td></tr><tr><td>&quot;United Kingdom…</td><td>1973</td><td>9.196033</td><td>8.414879</td><td>-0.382677</td><td>&quot;8.020833333333…</td><td>8.0</td><td>2.6</td><td>null</td></tr><tr><td>&quot;United Kingdom…</td><td>1974</td><td>16.044011</td><td>15.059213</td><td>-5.266169</td><td>&quot;9.5&quot;</td><td>9.0</td><td>2.6</td><td>null</td></tr><tr><td>&quot;United Kingdom…</td><td>1975</td><td>24.207288</td><td>25.770728</td><td>-12.167407</td><td>&quot;7.083333333333…</td><td>10.467692</td><td>4.0</td><td>null</td></tr><tr><td>&quot;United Kingdom…</td><td>1976</td><td>16.559523</td><td>15.113567</td><td>-3.48579</td><td>&quot;7.541666666666…</td><td>11.10095</td><td>5.5</td><td>null</td></tr><tr><td>&quot;United Kingdom…</td><td>1977</td><td>15.840267</td><td>13.710494</td><td>-4.220039</td><td>&quot;4.895833333333…</td><td>8.911867</td><td>5.8</td><td>null</td></tr><tr><td>&quot;United Kingdom…</td><td>1978</td><td>8.263141</td><td>11.457547</td><td>-2.121343</td><td>&quot;6.083333333333…</td><td>9.09315</td><td>5.7</td><td>null</td></tr><tr><td>&quot;United Kingdom…</td><td>1979</td><td>13.42128</td><td>14.066541</td><td>-0.325891</td><td>&quot;11.70833333333…</td><td>13.694808</td><td>5.3</td><td>null</td></tr><tr><td>&quot;United Kingdom…</td><td>1980</td><td>17.965924</td><td>19.703795</td><td>-2.832919</td><td>&quot;14.125&quot;</td><td>16.312683</td><td>6.8</td><td>null</td></tr><tr><td>&quot;United Kingdom…</td><td>1981</td><td>11.876627</td><td>11.569263</td><td>1.510933</td><td>&quot;10.66666666666…</td><td>13.255</td><td>10.4</td><td>null</td></tr><tr><td>&hellip;</td><td>&hellip;</td><td>&hellip;</td><td>&hellip;</td><td>&hellip;</td><td>&hellip;</td><td>&hellip;</td><td>&hellip;</td><td>&hellip;</td></tr><tr><td>&quot;United States&quot;</td><td>2010</td><td>1.640043</td><td>1.165251</td><td>2.060737</td><td>null</td><td>3.25</td><td>9.63</td><td>9.63</td></tr><tr><td>&quot;United States&quot;</td><td>2011</td><td>3.156842</td><td>2.088904</td><td>1.137338</td><td>null</td><td>3.25</td><td>8.95</td><td>8.95</td></tr><tr><td>&quot;United States&quot;</td><td>2012</td><td>2.069337</td><td>1.917849</td><td>1.307083</td><td>null</td><td>3.25</td><td>8.07</td><td>8.07</td></tr><tr><td>&quot;United States&quot;</td><td>2013</td><td>1.464833</td><td>1.754916</td><td>1.469299</td><td>null</td><td>3.25</td><td>7.37</td><td>7.37</td></tr><tr><td>&quot;United States&quot;</td><td>2014</td><td>1.622223</td><td>1.849827</td><td>1.374742</td><td>null</td><td>3.25</td><td>6.17</td><td>6.17</td></tr><tr><td>&quot;United States&quot;</td><td>2015</td><td>0.118627</td><td>0.952532</td><td>2.285696</td><td>null</td><td>3.26</td><td>5.28</td><td>5.28</td></tr><tr><td>&quot;United States&quot;</td><td>2016</td><td>1.261583</td><td>1.049247</td><td>2.436851</td><td>null</td><td>3.511667</td><td>4.87</td><td>4.87</td></tr><tr><td>&quot;United States&quot;</td><td>2017</td><td>2.13011</td><td>1.880068</td><td>2.175694</td><td>null</td><td>4.096667</td><td>4.36</td><td>4.36</td></tr><tr><td>&quot;United States&quot;</td><td>2018</td><td>2.442583</td><td>2.400981</td><td>2.444494</td><td>null</td><td>4.904167</td><td>3.9</td><td>3.9</td></tr><tr><td>&quot;United States&quot;</td><td>2019</td><td>1.81221</td><td>1.785152</td><td>3.43601</td><td>null</td><td>5.2825</td><td>3.67</td><td>3.67</td></tr><tr><td>&quot;United States&quot;</td><td>2020</td><td>1.233584</td><td>1.205202</td><td>2.311111</td><td>null</td><td>3.544167</td><td>8.05</td><td>8.05</td></tr><tr><td>&quot;United States&quot;</td><td>2021</td><td>4.697859</td><td>null</td><td>null</td><td>null</td><td>3.25</td><td>5.35</td><td>5.464</td></tr></tbody></table></div>"
      ],
      "text/plain": [
       "shape: (104, 9)\n",
       "┌───────────────┬──────┬───────────────┬───────────────┬───┬───────────────┬───────────────┬───────────────┬───────────────┐\n",
       "│ country       ┆ year ┆ Inflation,    ┆ Inflation,    ┆ … ┆ Deposit       ┆ Lending       ┆ Unemployment, ┆ Unemployment, │\n",
       "│ ---           ┆ ---  ┆ consumer      ┆ GDP deflator  ┆   ┆ interest rate ┆ interest rate ┆ total (% of   ┆ total (% of   │\n",
       "│ str           ┆ i64  ┆ prices (annu… ┆ (annual …     ┆   ┆ (%)           ┆ (%)           ┆ total …       ┆ total …       │\n",
       "│               ┆      ┆ ---           ┆ ---           ┆   ┆ ---           ┆ ---           ┆ ---           ┆ ---           │\n",
       "│               ┆      ┆ f64           ┆ f64           ┆   ┆ str           ┆ f64           ┆ f64           ┆ f64           │\n",
       "╞═══════════════╪══════╪═══════════════╪═══════════════╪═══╪═══════════════╪═══════════════╪═══════════════╪═══════════════╡\n",
       "│ United        ┆ 1970 ┆ 6.366568      ┆ 5.539735      ┆ … ┆ 5.20833333333 ┆ 7.25          ┆ null          ┆ null          │\n",
       "│ Kingdom       ┆      ┆               ┆               ┆   ┆ 333           ┆               ┆               ┆               │\n",
       "│ United        ┆ 1971 ┆ 9.444837      ┆ 7.985625      ┆ … ┆ 3.83333333333 ┆ 7.5           ┆ 3.3           ┆ null          │\n",
       "│ Kingdom       ┆      ┆               ┆               ┆   ┆ 333           ┆               ┆               ┆               │\n",
       "│ United        ┆ 1972 ┆ 7.071098      ┆ 7.188252      ┆ … ┆ 4.14583333333 ┆ 7.5           ┆ 3.7           ┆ null          │\n",
       "│ Kingdom       ┆      ┆               ┆               ┆   ┆ 333           ┆               ┆               ┆               │\n",
       "│ United        ┆ 1973 ┆ 9.196033      ┆ 8.414879      ┆ … ┆ 8.02083333333 ┆ 8.0           ┆ 2.6           ┆ null          │\n",
       "│ Kingdom       ┆      ┆               ┆               ┆   ┆ 333           ┆               ┆               ┆               │\n",
       "│ …             ┆ …    ┆ …             ┆ …             ┆ … ┆ …             ┆ …             ┆ …             ┆ …             │\n",
       "│ United States ┆ 2018 ┆ 2.442583      ┆ 2.400981      ┆ … ┆ null          ┆ 4.904167      ┆ 3.9           ┆ 3.9           │\n",
       "│ United States ┆ 2019 ┆ 1.81221       ┆ 1.785152      ┆ … ┆ null          ┆ 5.2825        ┆ 3.67          ┆ 3.67          │\n",
       "│ United States ┆ 2020 ┆ 1.233584      ┆ 1.205202      ┆ … ┆ null          ┆ 3.544167      ┆ 8.05          ┆ 8.05          │\n",
       "│ United States ┆ 2021 ┆ 4.697859      ┆ null          ┆ … ┆ null          ┆ 3.25          ┆ 5.35          ┆ 5.464         │\n",
       "└───────────────┴──────┴───────────────┴───────────────┴───┴───────────────┴───────────────┴───────────────┴───────────────┘"
      ]
     },
     "execution_count": 6,
     "metadata": {},
     "output_type": "execute_result"
    }
   ],
   "source": [
    "filtered_df = info_df_remove_column.filter((info_df_remove_column['country'] == 'United States') | (info_df_remove_column['country'] == 'United Kingdom'))\n",
    "filtered_df"
   ]
  },
  {
   "cell_type": "code",
   "execution_count": 11,
   "id": "78643ac0",
   "metadata": {
    "scrolled": true
   },
   "outputs": [
    {
     "ename": "ColumnNotFoundError",
     "evalue": "Year\n\nError originated just after this operation:\nDF [\"year\", \"Inflation, consumer prices (annual %)\"]; PROJECT */2 COLUMNS; SELECTION: \"None\"",
     "output_type": "error",
     "traceback": [
      "\u001b[1;31m---------------------------------------------------------------------------\u001b[0m",
      "\u001b[1;31mColumnNotFoundError\u001b[0m                       Traceback (most recent call last)",
      "Cell \u001b[1;32mIn[11], line 2\u001b[0m\n\u001b[0;32m      1\u001b[0m us_inflation \u001b[38;5;241m=\u001b[39m filtered_df\u001b[38;5;241m.\u001b[39mfilter(filtered_df[\u001b[38;5;124m'\u001b[39m\u001b[38;5;124mcountry\u001b[39m\u001b[38;5;124m'\u001b[39m] \u001b[38;5;241m==\u001b[39m \u001b[38;5;124m'\u001b[39m\u001b[38;5;124mUnited States\u001b[39m\u001b[38;5;124m'\u001b[39m)[[\u001b[38;5;124m'\u001b[39m\u001b[38;5;124myear\u001b[39m\u001b[38;5;124m'\u001b[39m, \u001b[38;5;124m'\u001b[39m\u001b[38;5;124mInflation, consumer prices (annual \u001b[39m\u001b[38;5;124m%\u001b[39m\u001b[38;5;124m)\u001b[39m\u001b[38;5;124m'\u001b[39m]]\n\u001b[1;32m----> 2\u001b[0m us_inflation \u001b[38;5;241m=\u001b[39m \u001b[43mus_inflation\u001b[49m\u001b[38;5;241;43m.\u001b[39;49m\u001b[43mwith_columns\u001b[49m\u001b[43m(\u001b[49m\u001b[43m[\u001b[49m\u001b[38;5;124;43m\"\u001b[39;49m\u001b[38;5;124;43mYear\u001b[39;49m\u001b[38;5;124;43m\"\u001b[39;49m\u001b[43m,\u001b[49m\u001b[43m \u001b[49m\u001b[38;5;124;43m\"\u001b[39;49m\u001b[38;5;124;43myear\u001b[39;49m\u001b[38;5;124;43m\"\u001b[39;49m\u001b[43m,\u001b[49m\u001b[43m \u001b[49m\u001b[38;5;124;43m\"\u001b[39;49m\u001b[38;5;124;43mInflation\u001b[39;49m\u001b[38;5;124;43m\"\u001b[39;49m\u001b[43m,\u001b[49m\u001b[43m \u001b[49m\u001b[38;5;124;43m\"\u001b[39;49m\u001b[38;5;124;43mInflation, consumer prices (annual \u001b[39;49m\u001b[38;5;124;43m%\u001b[39;49m\u001b[38;5;124;43m)\u001b[39;49m\u001b[38;5;124;43m\"\u001b[39;49m\u001b[43m]\u001b[49m\u001b[43m)\u001b[49m\u001b[38;5;241m.\u001b[39mdrop([\u001b[38;5;124m\"\u001b[39m\u001b[38;5;124myear\u001b[39m\u001b[38;5;124m\"\u001b[39m, \u001b[38;5;124m\"\u001b[39m\u001b[38;5;124mInflation, consumer prices (annual \u001b[39m\u001b[38;5;124m%\u001b[39m\u001b[38;5;124m)\u001b[39m\u001b[38;5;124m\"\u001b[39m])\n\u001b[0;32m      3\u001b[0m us_inflation \u001b[38;5;241m=\u001b[39m us_inflation\u001b[38;5;241m.\u001b[39mset_index(\u001b[38;5;124m'\u001b[39m\u001b[38;5;124mYear\u001b[39m\u001b[38;5;124m'\u001b[39m)\n\u001b[0;32m      4\u001b[0m \u001b[38;5;28mprint\u001b[39m(us_inflation\u001b[38;5;241m.\u001b[39mhead())\n",
      "File \u001b[1;32m~\\anaconda3\\envs\\dev\\lib\\site-packages\\polars\\dataframe\\frame.py:8270\u001b[0m, in \u001b[0;36mDataFrame.with_columns\u001b[1;34m(self, *exprs, **named_exprs)\u001b[0m\n\u001b[0;32m   8124\u001b[0m \u001b[38;5;28;01mdef\u001b[39;00m \u001b[38;5;21mwith_columns\u001b[39m(\n\u001b[0;32m   8125\u001b[0m     \u001b[38;5;28mself\u001b[39m,\n\u001b[0;32m   8126\u001b[0m     \u001b[38;5;241m*\u001b[39mexprs: IntoExpr \u001b[38;5;241m|\u001b[39m Iterable[IntoExpr],\n\u001b[0;32m   8127\u001b[0m     \u001b[38;5;241m*\u001b[39m\u001b[38;5;241m*\u001b[39mnamed_exprs: IntoExpr,\n\u001b[0;32m   8128\u001b[0m ) \u001b[38;5;241m-\u001b[39m\u001b[38;5;241m>\u001b[39m DataFrame:\n\u001b[0;32m   8129\u001b[0m \u001b[38;5;250m    \u001b[39m\u001b[38;5;124;03m\"\"\"\u001b[39;00m\n\u001b[0;32m   8130\u001b[0m \u001b[38;5;124;03m    Add columns to this DataFrame.\u001b[39;00m\n\u001b[0;32m   8131\u001b[0m \n\u001b[1;32m   (...)\u001b[0m\n\u001b[0;32m   8268\u001b[0m \u001b[38;5;124;03m    └─────┴──────┴─────────────┘\u001b[39;00m\n\u001b[0;32m   8269\u001b[0m \u001b[38;5;124;03m    \"\"\"\u001b[39;00m\n\u001b[1;32m-> 8270\u001b[0m     \u001b[38;5;28;01mreturn\u001b[39;00m \u001b[38;5;28;43mself\u001b[39;49m\u001b[38;5;241;43m.\u001b[39;49m\u001b[43mlazy\u001b[49m\u001b[43m(\u001b[49m\u001b[43m)\u001b[49m\u001b[38;5;241;43m.\u001b[39;49m\u001b[43mwith_columns\u001b[49m\u001b[43m(\u001b[49m\u001b[38;5;241;43m*\u001b[39;49m\u001b[43mexprs\u001b[49m\u001b[43m,\u001b[49m\u001b[43m \u001b[49m\u001b[38;5;241;43m*\u001b[39;49m\u001b[38;5;241;43m*\u001b[39;49m\u001b[43mnamed_exprs\u001b[49m\u001b[43m)\u001b[49m\u001b[38;5;241;43m.\u001b[39;49m\u001b[43mcollect\u001b[49m\u001b[43m(\u001b[49m\u001b[43m_eager\u001b[49m\u001b[38;5;241;43m=\u001b[39;49m\u001b[38;5;28;43;01mTrue\u001b[39;49;00m\u001b[43m)\u001b[49m\n",
      "File \u001b[1;32m~\\anaconda3\\envs\\dev\\lib\\site-packages\\polars\\lazyframe\\frame.py:1730\u001b[0m, in \u001b[0;36mLazyFrame.collect\u001b[1;34m(self, type_coercion, predicate_pushdown, projection_pushdown, simplify_expression, slice_pushdown, comm_subplan_elim, comm_subexpr_elim, no_optimization, streaming, background, _eager)\u001b[0m\n\u001b[0;32m   1727\u001b[0m \u001b[38;5;28;01mif\u001b[39;00m background:\n\u001b[0;32m   1728\u001b[0m     \u001b[38;5;28;01mreturn\u001b[39;00m InProcessQuery(ldf\u001b[38;5;241m.\u001b[39mcollect_concurrently())\n\u001b[1;32m-> 1730\u001b[0m \u001b[38;5;28;01mreturn\u001b[39;00m wrap_df(\u001b[43mldf\u001b[49m\u001b[38;5;241;43m.\u001b[39;49m\u001b[43mcollect\u001b[49m\u001b[43m(\u001b[49m\u001b[43m)\u001b[49m)\n",
      "\u001b[1;31mColumnNotFoundError\u001b[0m: Year\n\nError originated just after this operation:\nDF [\"year\", \"Inflation, consumer prices (annual %)\"]; PROJECT */2 COLUMNS; SELECTION: \"None\""
     ]
    }
   ],
   "source": [
    "us_inflation = filtered_df.filter(filtered_df['country'] == 'United States')[['year', 'Inflation, consumer prices (annual %)']]\n",
    "us_inflation = us_inflation.with_columns([\"Year\", \"year\", \"Inflation\", \"Inflation, consumer prices (annual %)\"]).drop([\"year\", \"Inflation, consumer prices (annual %)\"])\n",
    "us_inflation = us_inflation.set_index('Year')\n",
    "print(us_inflation.head())"
   ]
  },
  {
   "cell_type": "code",
   "execution_count": null,
   "id": "209c6d78",
   "metadata": {},
   "outputs": [],
   "source": [
    "filtered_df.write_csv('output.csv')"
   ]
  },
  {
   "cell_type": "code",
   "execution_count": null,
   "id": "87d7d1a1",
   "metadata": {},
   "outputs": [],
   "source": []
  }
 ],
 "metadata": {
  "kernelspec": {
   "display_name": "Python 3 (ipykernel)",
   "language": "python",
   "name": "python3"
  },
  "language_info": {
   "codemirror_mode": {
    "name": "ipython",
    "version": 3
   },
   "file_extension": ".py",
   "mimetype": "text/x-python",
   "name": "python",
   "nbconvert_exporter": "python",
   "pygments_lexer": "ipython3",
   "version": "3.10.13"
  }
 },
 "nbformat": 4,
 "nbformat_minor": 5
}
