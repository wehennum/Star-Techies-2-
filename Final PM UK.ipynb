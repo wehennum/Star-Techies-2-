{
 "cells": [
  {
   "cell_type": "code",
   "execution_count": 1,
   "id": "d821526a",
   "metadata": {},
   "outputs": [],
   "source": [
    "import pandas as pd"
   ]
  },
  {
   "cell_type": "code",
   "execution_count": 2,
   "id": "b8eb804f",
   "metadata": {},
   "outputs": [],
   "source": [
    "PM_UK_df= pd.read_csv('Resources/British Prime Ministers since 1721 - Sheet1.csv')"
   ]
  },
  {
   "cell_type": "code",
   "execution_count": 3,
   "id": "2193b6aa",
   "metadata": {
    "collapsed": true
   },
   "outputs": [
    {
     "name": "stdout",
     "output_type": "stream",
     "text": [
      "                            Name  Year        Party           School  \\\n",
      "0                 Robert Walpole  1721        Whig             Eton    \n",
      "1                Spencer Compton  1742        Whig         St Paul's   \n",
      "2                   Henry Pelham  1743        Whig       Westminster   \n",
      "3           Thomas Pelham-Holles  1754        Whig       Westminster   \n",
      "4              William Cavendish  1756        Whig             Other   \n",
      "..                           ...   ...          ...              ...   \n",
      "71                Sir John Major  1990  Conserative  Rutlish Grammar   \n",
      "72  Anthony Charles Lynton Blair  1997       Labour            Other   \n",
      "73            James Gordon Brown  2007       Labour         Kircaldy   \n",
      "74  David William Donald Cameron  2010  Conserative             Eton   \n",
      "75              Theresa Mary May  2016  Conserative      Halton Park   \n",
      "\n",
      "   University    College      Monarch  \n",
      "0   Cambridge     King's     George 1  \n",
      "1      Oxford    Trinity     George 2  \n",
      "2      Oxford   Hertford     George 2  \n",
      "3   Cambridge      Clare     George 2  \n",
      "4    Industry        NaN     George 2  \n",
      "..        ...        ...          ...  \n",
      "71   Industry        NaN  Elizabeth 2  \n",
      "72     Oxford  St John's  Elizabeth 2  \n",
      "73  Edinburgh        NaN  Elizabeth 2  \n",
      "74     Oxford  Brasenose  Elizabeth 2  \n",
      "75     Oxford  St Hugh's  Elizabeth 2  \n",
      "\n",
      "[76 rows x 7 columns]\n"
     ]
    }
   ],
   "source": [
    "print(PM_UK_df)"
   ]
  },
  {
   "cell_type": "code",
   "execution_count": 4,
   "id": "b14167a5",
   "metadata": {},
   "outputs": [],
   "source": [
    "columns_to_drop = ['Party', 'School', 'University', 'College', 'Monarch']"
   ]
  },
  {
   "cell_type": "code",
   "execution_count": 5,
   "id": "efb0f87a",
   "metadata": {},
   "outputs": [],
   "source": [
    "PM_UK_df.drop(['Party', 'School', 'University', 'College', 'Monarch'], axis=1, inplace=True)\n"
   ]
  },
  {
   "cell_type": "code",
   "execution_count": 6,
   "id": "18567b65",
   "metadata": {},
   "outputs": [
    {
     "name": "stdout",
     "output_type": "stream",
     "text": [
      "Index(['Name', 'Year'], dtype='object')\n"
     ]
    }
   ],
   "source": [
    "print(PM_UK_df.columns)"
   ]
  },
  {
   "cell_type": "code",
   "execution_count": 7,
   "id": "f2231298",
   "metadata": {},
   "outputs": [],
   "source": [
    "PM_UK_df = PM_UK_df[PM_UK_df['Year'] >= 1969]\n"
   ]
  },
  {
   "cell_type": "code",
   "execution_count": 8,
   "id": "5cfbaf93",
   "metadata": {},
   "outputs": [
    {
     "name": "stdout",
     "output_type": "stream",
     "text": [
      "                               Name  Year\n",
      "67  Sir Edward Richard George Heath  1970\n",
      "68              James Harold Wilson  1974\n",
      "69          Leonard James Callaghan  1976\n",
      "70         Margaret Hilda Thatcher,  1979\n",
      "71                   Sir John Major  1990\n",
      "72     Anthony Charles Lynton Blair  1997\n",
      "73               James Gordon Brown  2007\n",
      "74     David William Donald Cameron  2010\n",
      "75                 Theresa Mary May  2016\n"
     ]
    }
   ],
   "source": [
    "print(PM_UK_df)"
   ]
  },
  {
   "cell_type": "code",
   "execution_count": 9,
   "id": "b922f216",
   "metadata": {},
   "outputs": [],
   "source": [
    " new_row = {'Name': 'Boris Johnson', 'Year': 2019}\n",
    "new_df = pd.DataFrame([new_row])\n",
    "\n",
    "PM_UK_df = pd.concat([PM_UK_df, new_df], ignore_index=True)"
   ]
  },
  {
   "cell_type": "code",
   "execution_count": 10,
   "id": "f062ff01",
   "metadata": {},
   "outputs": [],
   "source": [
    "\n",
    "new_row = {'Name': 'Rishi Sunak', 'Year': 2022}\n",
    "new_df = pd.DataFrame([new_row])\n",
    "\n",
    "PM_UK_df = pd.concat([PM_UK_df, new_df], ignore_index=True)"
   ]
  },
  {
   "cell_type": "code",
   "execution_count": 11,
   "id": "fe405ebf",
   "metadata": {},
   "outputs": [
    {
     "name": "stdout",
     "output_type": "stream",
     "text": [
      "                               Name  Year\n",
      "0   Sir Edward Richard George Heath  1970\n",
      "1               James Harold Wilson  1974\n",
      "2           Leonard James Callaghan  1976\n",
      "3          Margaret Hilda Thatcher,  1979\n",
      "4                    Sir John Major  1990\n",
      "5      Anthony Charles Lynton Blair  1997\n",
      "6                James Gordon Brown  2007\n",
      "7      David William Donald Cameron  2010\n",
      "8                  Theresa Mary May  2016\n",
      "9                     Boris Johnson  2019\n",
      "10                      Rishi Sunak  2022\n"
     ]
    }
   ],
   "source": [
    "print(PM_UK_df)"
   ]
  },
  {
   "cell_type": "code",
   "execution_count": 12,
   "id": "fae249c4",
   "metadata": {},
   "outputs": [
    {
     "name": "stdout",
     "output_type": "stream",
     "text": [
      "                               Name         Year\n",
      "0   Sir Edward Richard George Heath  1970-1974.0\n",
      "1               James Harold Wilson  1974-1976.0\n",
      "2           Leonard James Callaghan  1976-1979.0\n",
      "3          Margaret Hilda Thatcher,  1979-1990.0\n",
      "4                    Sir John Major  1990-1997.0\n",
      "5      Anthony Charles Lynton Blair  1997-2007.0\n",
      "6                James Gordon Brown  2007-2010.0\n",
      "7      David William Donald Cameron  2010-2016.0\n",
      "8                  Theresa Mary May  2016-2019.0\n",
      "9                     Boris Johnson  2019-2022.0\n",
      "10                      Rishi Sunak     2022-nan\n"
     ]
    }
   ],
   "source": [
    "\n",
    "PM_UK_df['Year'] = PM_UK_df['Year'].astype(str) + '-' + PM_UK_df['Year'].shift(-1).astype(str)\n",
    "\n",
    "PM_UK_df.loc[PM_UK_df.index[-1], 'Year'] = str(PM_UK_df['Year'].iloc[-1])\n",
    "\n",
    "print(PM_UK_df)\n"
   ]
  },
  {
   "cell_type": "code",
   "execution_count": 13,
   "id": "e10963d0",
   "metadata": {},
   "outputs": [
    {
     "name": "stdout",
     "output_type": "stream",
     "text": [
      "                               Name       Year\n",
      "0   Sir Edward Richard George Heath  1970-1974\n",
      "1               James Harold Wilson  1974-1976\n",
      "2           Leonard James Callaghan  1976-1979\n",
      "3          Margaret Hilda Thatcher,  1979-1990\n",
      "4                    Sir John Major  1990-1997\n",
      "5      Anthony Charles Lynton Blair  1997-2007\n",
      "6                James Gordon Brown  2007-2010\n",
      "7      David William Donald Cameron  2010-2016\n",
      "8                  Theresa Mary May  2016-2019\n",
      "9                     Boris Johnson  2019-2022\n",
      "10                      Rishi Sunak   2022-nan\n"
     ]
    }
   ],
   "source": [
    "\n",
    "PM_UK_df['Year'] = PM_UK_df['Year'].astype(str).str.replace('.0', '')\n",
    "\n",
    "print(PM_UK_df)\n"
   ]
  },
  {
   "cell_type": "code",
   "execution_count": null,
   "id": "13e9f71f",
   "metadata": {},
   "outputs": [],
   "source": []
  }
 ],
 "metadata": {
  "kernelspec": {
   "display_name": "Python 3 (ipykernel)",
   "language": "python",
   "name": "python3"
  },
  "language_info": {
   "codemirror_mode": {
    "name": "ipython",
    "version": 3
   },
   "file_extension": ".py",
   "mimetype": "text/x-python",
   "name": "python",
   "nbconvert_exporter": "python",
   "pygments_lexer": "ipython3",
   "version": "3.11.5"
  }
 },
 "nbformat": 4,
 "nbformat_minor": 5
}
