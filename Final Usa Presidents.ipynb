{
 "cells": [
  {
   "cell_type": "code",
   "execution_count": 1,
   "id": "c208c73b",
   "metadata": {},
   "outputs": [],
   "source": [
    "import pandas as pd\n"
   ]
  },
  {
   "cell_type": "code",
   "execution_count": 2,
   "id": "32491f6b",
   "metadata": {},
   "outputs": [],
   "source": [
    "USA_Pres_df= pd.read_csv('Resources/Presidents.csv')\n"
   ]
  },
  {
   "cell_type": "code",
   "execution_count": 3,
   "id": "7e9c74d5",
   "metadata": {
    "scrolled": true
   },
   "outputs": [
    {
     "name": "stdout",
     "output_type": "stream",
     "text": [
      "         YEAR          PRESIDENT\n",
      "0   1789-1797  George Washington\n",
      "1   1797-1801         John Adams\n",
      "2   1801-1805   Thomas Jefferson\n",
      "3         NaN                NaN\n",
      "4         NaN                NaN\n",
      "..        ...                ...\n",
      "70  1993-2001       Bill Clinton\n",
      "71  2001-2009     George W. Bush\n",
      "72  2009-2017       Barack Obama\n",
      "73  2017-2021    Donald J. Trump\n",
      "74      2021-    Joseph R. Biden\n",
      "\n",
      "[75 rows x 2 columns]\n"
     ]
    }
   ],
   "source": [
    "print(USA_Pres_df)"
   ]
  },
  {
   "cell_type": "code",
   "execution_count": 4,
   "id": "0d1a9900",
   "metadata": {},
   "outputs": [],
   "source": [
    "USA_Pres_df = USA_Pres_df[['PRESIDENT', 'YEAR']]"
   ]
  },
  {
   "cell_type": "code",
   "execution_count": 5,
   "id": "2f7bc132",
   "metadata": {},
   "outputs": [
    {
     "name": "stdout",
     "output_type": "stream",
     "text": [
      "            PRESIDENT       YEAR\n",
      "0   George Washington  1789-1797\n",
      "1          John Adams  1797-1801\n",
      "2    Thomas Jefferson  1801-1805\n",
      "3                 NaN        NaN\n",
      "4                 NaN        NaN\n",
      "..                ...        ...\n",
      "70       Bill Clinton  1993-2001\n",
      "71     George W. Bush  2001-2009\n",
      "72       Barack Obama  2009-2017\n",
      "73    Donald J. Trump  2017-2021\n",
      "74    Joseph R. Biden      2021-\n",
      "\n",
      "[75 rows x 2 columns]\n"
     ]
    }
   ],
   "source": [
    "print(USA_Pres_df)"
   ]
  },
  {
   "cell_type": "code",
   "execution_count": 6,
   "id": "ad7cb5e7",
   "metadata": {},
   "outputs": [],
   "source": [
    "USA_Pres_df['START_YEAR'] = USA_Pres_df['YEAR'].str.extract('(\\d{4})').astype(float)\n",
    "Presidents_df = USA_Pres_df[USA_Pres_df['START_YEAR'] > 1968][['PRESIDENT', 'YEAR']]\n",
    "\n"
   ]
  },
  {
   "cell_type": "code",
   "execution_count": 7,
   "id": "cb432ba7",
   "metadata": {
    "scrolled": true
   },
   "outputs": [
    {
     "name": "stdout",
     "output_type": "stream",
     "text": [
      "           PRESIDENT       YEAR\n",
      "64  Richard M. Nixon  1969-1973\n",
      "65  Richard M. Nixon  1973-1974\n",
      "66    Gerald R. Ford  1974-1977\n",
      "67      Jimmy Carter  1977-1981\n",
      "68     Ronald Reagan  1981-1989\n",
      "69       George Bush  1989-1993\n",
      "70      Bill Clinton  1993-2001\n",
      "71    George W. Bush  2001-2009\n",
      "72      Barack Obama  2009-2017\n",
      "73   Donald J. Trump  2017-2021\n",
      "74   Joseph R. Biden      2021-\n"
     ]
    }
   ],
   "source": [
    "print(Presidents_df)"
   ]
  },
  {
   "cell_type": "code",
   "execution_count": 10,
   "id": "835552a2",
   "metadata": {},
   "outputs": [
    {
     "name": "stdout",
     "output_type": "stream",
     "text": [
      "           PRESIDENT       YEAR\n",
      "64  Richard M. Nixon  1969-1973\n",
      "65  Richard M. Nixon  1973-1974\n",
      "66    Gerald R. Ford  1974-1977\n",
      "67      Jimmy Carter  1977-1981\n",
      "68     Ronald Reagan  1981-1989\n",
      "69       George Bush  1989-1993\n",
      "70      Bill Clinton  1993-2001\n",
      "71    George W. Bush  2001-2009\n",
      "72      Barack Obama  2009-2017\n",
      "73   Donald J. Trump  2017-2021\n",
      "74   Joseph R. Biden  2021-2025\n"
     ]
    }
   ],
   "source": [
    "Presidents_df.loc[Presidents_df['PRESIDENT'] == 'Joseph R. Biden', 'YEAR'] = '2021-2025'\n",
    "\n",
    "# Display the updated DataFrame\n",
    "print(Presidents_df)"
   ]
  },
  {
   "cell_type": "code",
   "execution_count": 12,
   "id": "9ca43a60",
   "metadata": {},
   "outputs": [
    {
     "name": "stdout",
     "output_type": "stream",
     "text": [
      "           PRESIDENT       YEAR\n",
      "64  Richard M. Nixon  1969-1974\n",
      "65  Richard M. Nixon  1973-1974\n",
      "66    Gerald R. Ford  1974-1977\n",
      "67      Jimmy Carter  1977-1981\n",
      "68     Ronald Reagan  1981-1989\n",
      "69       George Bush  1989-1993\n",
      "70      Bill Clinton  1993-2001\n",
      "71    George W. Bush  2001-2009\n",
      "72      Barack Obama  2009-2017\n",
      "73   Donald J. Trump  2017-2021\n",
      "74   Joseph R. Biden  2021-2025\n"
     ]
    }
   ],
   "source": [
    "# Update the year range for Richard M. Nixon\n",
    "Presidents_df.loc[64, 'YEAR'] = '1969-1974'\n",
    "\n",
    "# Display the updated DataFrame\n",
    "print(Presidents_df)\n"
   ]
  },
  {
   "cell_type": "code",
   "execution_count": 13,
   "id": "81b78502",
   "metadata": {},
   "outputs": [],
   "source": [
    "Presidents_df.to_csv('US_data_cleaned_un_inf.csv')"
   ]
  },
  {
   "cell_type": "code",
   "execution_count": null,
   "id": "f83641ca",
   "metadata": {},
   "outputs": [],
   "source": []
  },
  {
   "cell_type": "code",
   "execution_count": null,
   "id": "4c410b4c",
   "metadata": {},
   "outputs": [],
   "source": []
  },
  {
   "cell_type": "code",
   "execution_count": null,
   "id": "c508618b",
   "metadata": {},
   "outputs": [],
   "source": []
  },
  {
   "cell_type": "code",
   "execution_count": null,
   "id": "3f7eb46a",
   "metadata": {},
   "outputs": [],
   "source": []
  }
 ],
 "metadata": {
  "kernelspec": {
   "display_name": "Python 3 (ipykernel)",
   "language": "python",
   "name": "python3"
  },
  "language_info": {
   "codemirror_mode": {
    "name": "ipython",
    "version": 3
   },
   "file_extension": ".py",
   "mimetype": "text/x-python",
   "name": "python",
   "nbconvert_exporter": "python",
   "pygments_lexer": "ipython3",
   "version": "3.11.5"
  }
 },
 "nbformat": 4,
 "nbformat_minor": 5
}
